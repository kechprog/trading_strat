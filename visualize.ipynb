{
 "cells": [
  {
   "cell_type": "code",
   "execution_count": 1,
   "id": "1c2f9d1e",
   "metadata": {},
   "outputs": [],
   "source": [
    "import shutil\n",
    "from decimal import Decimal\n",
    "from pathlib import Path\n",
    "\n",
    "import pandas as pd\n",
    "\n",
    "from nautilus_trader.backtest.node import BacktestDataConfig\n",
    "from nautilus_trader.backtest.node import BacktestEngineConfig\n",
    "from nautilus_trader.backtest.node import BacktestNode\n",
    "from nautilus_trader.backtest.node import BacktestRunConfig\n",
    "from nautilus_trader.backtest.node import BacktestVenueConfig\n",
    "from nautilus_trader.config import ImportableStrategyConfig\n",
    "from nautilus_trader.core.datetime import dt_to_unix_nanos\n",
    "from nautilus_trader.model import BarType, InstrumentId, instruments, BarSpecification, Venue\n",
    "from nautilus_trader.model.enums import BarAggregation, PriceType, AssetClass, OmsType, AccountType, AggregationSource\n",
    "from nautilus_trader.persistence.catalog import ParquetDataCatalog\n",
    "from nautilus_trader.persistence.wranglers import BarDataWrangler\n",
    "from nautilus_trader.test_kit.providers import CSVBarDataLoader\n",
    "from nautilus_trader.test_kit.providers import TestInstrumentProvider\n",
    "from nautilus_trader.model import Symbol\n",
    "from nautilus_trader.config import LoggingConfig\n",
    "from nautilus_trader.model import Bar"
   ]
  },
  {
   "cell_type": "code",
   "execution_count": 3,
   "id": "fdf71a11",
   "metadata": {},
   "outputs": [],
   "source": [
    "from nautilus_trader.core.datetime import unix_nanos_to_dt\n",
    "\n",
    "catalog = ParquetDataCatalog(\"./catalog\")\n",
    "bar = BarType(\n",
    "    InstrumentId.from_str(\"VOO.NASDAQ\"),\n",
    "    BarSpecification(30, BarAggregation.MINUTE, PriceType.LAST),\n",
    "    AggregationSource.INTERNAL\n",
    ")\n",
    "\n",
    "bars = catalog.bars(bar)\n",
    "\n",
    "with open(\"test.txt\", \"w+\") as f:\n",
    "    for b in bars:\n",
    "        f.write(f\"{unix_nanos_to_dt(b.ts_event)} | {b.close}, {b.volume}\\n\")"
   ]
  },
  {
   "cell_type": "code",
   "execution_count": null,
   "id": "3e62795e",
   "metadata": {},
   "outputs": [],
   "source": [
    "bar"
   ]
  }
 ],
 "metadata": {
  "kernelspec": {
   "display_name": "trading_bot",
   "language": "python",
   "name": "python3"
  },
  "language_info": {
   "codemirror_mode": {
    "name": "ipython",
    "version": 3
   },
   "file_extension": ".py",
   "mimetype": "text/x-python",
   "name": "python",
   "nbconvert_exporter": "python",
   "pygments_lexer": "ipython3",
   "version": "3.11.13"
  }
 },
 "nbformat": 4,
 "nbformat_minor": 5
}
